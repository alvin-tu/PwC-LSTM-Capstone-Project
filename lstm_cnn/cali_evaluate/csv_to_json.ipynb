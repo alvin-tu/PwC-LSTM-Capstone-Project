{
 "cells": [
  {
   "cell_type": "code",
   "execution_count": 1,
   "id": "70bce1de",
   "metadata": {},
   "outputs": [],
   "source": [
    "import os\n",
    "import pandas as pd\n",
    "import json"
   ]
  },
  {
   "cell_type": "code",
   "execution_count": 4,
   "id": "d396e568",
   "metadata": {},
   "outputs": [],
   "source": [
    "# Specify the folder containing the CSV files\n",
    "folder_path = '/home/capstone22/WildFIrePrediction/agni/evaluation_scripts/results/results_averaged'\n",
    "output_path = '/home/capstone22/WildFIrePrediction/agni/evaluation_scripts/results/results_averaged_json'\n",
    "\n",
    "# Loop over each CSV file in the folder\n",
    "for filename in os.listdir(folder_path):\n",
    "    if filename.endswith('.csv'):\n",
    "        # Read in the CSV file\n",
    "        csv_path = os.path.join(folder_path, filename)\n",
    "        df = pd.read_csv(csv_path)\n",
    "\n",
    "        # Convert each row to a dictionary and append to a list\n",
    "        data = []\n",
    "        for i, row in df.iterrows():\n",
    "            data.append({'latitude': row['latitude'], 'longitude': row['longitude'], 'value': row['value']})\n",
    "\n",
    "        # Write the list of dictionaries to a JSON file with the same name as the CSV file\n",
    "        json_path = os.path.join(output_path, filename.replace('.csv', '.json'))\n",
    "        with open(json_path, 'w') as outfile:\n",
    "            json.dump(data, outfile)"
   ]
  },
  {
   "cell_type": "code",
   "execution_count": 3,
   "id": "af1e36d0",
   "metadata": {},
   "outputs": [],
   "source": [
    "import os\n",
    "\n",
    "# Loop over each file in the folder\n",
    "for filename in os.listdir(folder_path):\n",
    "    if filename.endswith('.json'):\n",
    "        # Remove the file\n",
    "        json_path = os.path.join(folder_path, filename)\n",
    "        os.remove(json_path)"
   ]
  },
  {
   "cell_type": "code",
   "execution_count": 6,
   "id": "85de530a",
   "metadata": {},
   "outputs": [
    {
     "ename": "FileNotFoundError",
     "evalue": "[Errno 2] No such file or directory: '/home/capstone22/WildFIrePrediction/agni/evaluation_scripts/results/results_averaged/averaged_gt_model_cali_10.json' -> '/home/capstone22/WildFIrePrediction/agni/evaluation_scripts/results/results_averaged/gt_model_cali_10.json'",
     "output_type": "error",
     "traceback": [
      "\u001b[0;31m---------------------------------------------------------------------------\u001b[0m",
      "\u001b[0;31mFileNotFoundError\u001b[0m                         Traceback (most recent call last)",
      "\u001b[0;32m<ipython-input-6-a9289b34a58f>\u001b[0m in \u001b[0;36m<module>\u001b[0;34m\u001b[0m\n\u001b[1;32m      2\u001b[0m     \u001b[0;32mif\u001b[0m \u001b[0mfilename\u001b[0m\u001b[0;34m.\u001b[0m\u001b[0mstartswith\u001b[0m\u001b[0;34m(\u001b[0m\u001b[0;34m\"averaged_\"\u001b[0m\u001b[0;34m)\u001b[0m\u001b[0;34m:\u001b[0m\u001b[0;34m\u001b[0m\u001b[0;34m\u001b[0m\u001b[0m\n\u001b[1;32m      3\u001b[0m         \u001b[0mnew_filename\u001b[0m \u001b[0;34m=\u001b[0m \u001b[0mfilename\u001b[0m\u001b[0;34m.\u001b[0m\u001b[0mreplace\u001b[0m\u001b[0;34m(\u001b[0m\u001b[0;34m\"averaged_\"\u001b[0m\u001b[0;34m,\u001b[0m \u001b[0;34m\"\"\u001b[0m\u001b[0;34m)\u001b[0m\u001b[0;34m\u001b[0m\u001b[0;34m\u001b[0m\u001b[0m\n\u001b[0;32m----> 4\u001b[0;31m         \u001b[0mos\u001b[0m\u001b[0;34m.\u001b[0m\u001b[0mrename\u001b[0m\u001b[0;34m(\u001b[0m\u001b[0mos\u001b[0m\u001b[0;34m.\u001b[0m\u001b[0mpath\u001b[0m\u001b[0;34m.\u001b[0m\u001b[0mjoin\u001b[0m\u001b[0;34m(\u001b[0m\u001b[0mfolder_path\u001b[0m\u001b[0;34m,\u001b[0m \u001b[0mfilename\u001b[0m\u001b[0;34m)\u001b[0m\u001b[0;34m,\u001b[0m \u001b[0mos\u001b[0m\u001b[0;34m.\u001b[0m\u001b[0mpath\u001b[0m\u001b[0;34m.\u001b[0m\u001b[0mjoin\u001b[0m\u001b[0;34m(\u001b[0m\u001b[0mfolder_path\u001b[0m\u001b[0;34m,\u001b[0m \u001b[0mnew_filename\u001b[0m\u001b[0;34m)\u001b[0m\u001b[0;34m)\u001b[0m\u001b[0;34m\u001b[0m\u001b[0;34m\u001b[0m\u001b[0m\n\u001b[0m",
      "\u001b[0;31mFileNotFoundError\u001b[0m: [Errno 2] No such file or directory: '/home/capstone22/WildFIrePrediction/agni/evaluation_scripts/results/results_averaged/averaged_gt_model_cali_10.json' -> '/home/capstone22/WildFIrePrediction/agni/evaluation_scripts/results/results_averaged/gt_model_cali_10.json'"
     ]
    }
   ],
   "source": [
    "for filename in os.listdir(output_path):\n",
    "    if filename.startswith(\"averaged_\"):\n",
    "        new_filename = filename.replace(\"averaged_\", \"\")\n",
    "        os.rename(os.path.join(folder_path, filename), os.path.join(folder_path, new_filename))\n"
   ]
  },
  {
   "cell_type": "code",
   "execution_count": null,
   "id": "766af5dc",
   "metadata": {},
   "outputs": [],
   "source": []
  }
 ],
 "metadata": {
  "kernelspec": {
   "display_name": "venv",
   "language": "python",
   "name": "venv"
  },
  "language_info": {
   "codemirror_mode": {
    "name": "ipython",
    "version": 3
   },
   "file_extension": ".py",
   "mimetype": "text/x-python",
   "name": "python",
   "nbconvert_exporter": "python",
   "pygments_lexer": "ipython3",
   "version": "3.6.9"
  }
 },
 "nbformat": 4,
 "nbformat_minor": 5
}
