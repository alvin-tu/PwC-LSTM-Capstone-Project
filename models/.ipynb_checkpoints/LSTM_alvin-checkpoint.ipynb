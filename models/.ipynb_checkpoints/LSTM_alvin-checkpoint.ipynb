{
 "cells": [
  {
   "cell_type": "code",
   "execution_count": 1,
   "id": "9635fa7c",
   "metadata": {},
   "outputs": [],
   "source": [
    "import pandas as pd\n",
    "import json\n",
    "\n",
    "import numpy as np\n",
    "from tqdm import tqdm\n",
    "\n",
    "from datetime import datetime\n",
    "from time import time\n",
    "import os\n",
    "\n",
    "import torch\n",
    "\n",
    "import torch.nn as nn\n",
    "import torch.nn.functional as F\n",
    "import torch.optim as optim\n",
    "\n",
    "from torch.utils.data import Dataset\n",
    "from torch.utils.data import DataLoader\n",
    "\n",
    "import math\n",
    "import argparse"
   ]
  },
  {
   "cell_type": "code",
   "execution_count": 2,
   "id": "d1783511",
   "metadata": {},
   "outputs": [
    {
     "data": {
      "text/plain": [
       "'NVIDIA GeForce RTX 2080 Ti'"
      ]
     },
     "execution_count": 2,
     "metadata": {},
     "output_type": "execute_result"
    }
   ],
   "source": [
    "torch.cuda.get_device_name(0)"
   ]
  },
  {
   "cell_type": "code",
   "execution_count": 3,
   "id": "2aaa73a2",
   "metadata": {},
   "outputs": [],
   "source": [
    "df_train = pd.read_csv('/home/capstone22/WildFIrePrediction/Isaac_data/isaac_train.csv')\n",
    "df_valid = pd.read_csv('/home/capstone22/WildFIrePrediction/Isaac_data/isaac_valid.csv')\n",
    "df_test = pd.read_csv('/home/capstone22/WildFIrePrediction/Isaac_data/isaac_test.csv')"
   ]
  },
  {
   "cell_type": "code",
   "execution_count": 4,
   "id": "6fa0f89c",
   "metadata": {},
   "outputs": [],
   "source": [
    "selected_features = ['value',\n",
    "                     'Road_Dist',\n",
    "                     'Elec_Dist',\n",
    "                     'Mean_Housing_Dens_25km',\n",
    "                     'aet__mean_Normal',\n",
    "                     'cwd__mean_Normal',\n",
    "                     'cwd__mean_ThreeYear_Dev',\n",
    "#                      'time_since_fire'\n",
    "                     'FFWI']"
   ]
  },
  {
   "cell_type": "code",
   "execution_count": 5,
   "id": "444ec50c",
   "metadata": {},
   "outputs": [],
   "source": [
    "VALUE = 'value'\n",
    "FORECAST = 10000\n",
    "\n",
    "TARGET = f\"{VALUE}_lead{FORECAST}\"\n",
    "\n",
    "df_train[TARGET] = df_train[VALUE].shift(-FORECAST)\n",
    "df_train = df_train.iloc[:-FORECAST]\n",
    "\n",
    "df_valid[TARGET] = df_valid[VALUE].shift(-FORECAST)\n",
    "df_valid = df_valid.iloc[:-FORECAST]"
   ]
  },
  {
   "cell_type": "code",
   "execution_count": 6,
   "id": "2170d981",
   "metadata": {},
   "outputs": [],
   "source": [
    "# target_mean = df_train[TARGET].mean()\n",
    "# target_std = df_train[TARGET].std()\n",
    "\n",
    "# for col in df_train.columns:\n",
    "#     mean = df_train[col].mean()\n",
    "#     std = df_train[col].std()\n",
    "\n",
    "#     df_train[col] = (df_train[col] - mean) / std\n",
    "#     df_test[col] = (df_test[col] - mean) / std"
   ]
  },
  {
   "cell_type": "code",
   "execution_count": 7,
   "id": "37533883",
   "metadata": {},
   "outputs": [],
   "source": [
    "class IsaacData(Dataset):\n",
    "    def __init__(self, dataframe, target, features, sequence_length=20000):\n",
    "        self.features = features\n",
    "        self.target = target\n",
    "        self.sequence_length = sequence_length\n",
    "        self.y = torch.tensor(dataframe[target].values).float()\n",
    "        self.X = torch.tensor(dataframe[features].values).float()\n",
    "\n",
    "    def __len__(self):\n",
    "        return self.X.shape[0]\n",
    "\n",
    "    def __getitem__(self, i): \n",
    "        if i >= self.sequence_length - 1:\n",
    "            i_start = i - self.sequence_length + 1\n",
    "            x = self.X[i_start:(i + 1), :]\n",
    "        else:\n",
    "            padding = self.X[0].repeat(self.sequence_length - i - 1, 1)\n",
    "            x = self.X[0:(i + 1), :]\n",
    "            x = torch.cat((padding, x), 0)\n",
    "\n",
    "        return x, self.y[i]"
   ]
  },
  {
   "cell_type": "code",
   "execution_count": 8,
   "id": "ee539dec",
   "metadata": {},
   "outputs": [],
   "source": [
    "isaac_train = IsaacData(df_train, TARGET, selected_features)\n",
    "isaac_valid = IsaacData(df_valid, TARGET, selected_features)\n",
    "\n",
    "trainloader = DataLoader(isaac_train, batch_size=8, shuffle=False, num_workers=16)\n",
    "valloader = DataLoader(isaac_valid, batch_size=64, shuffle=False, num_workers=8)"
   ]
  },
  {
   "cell_type": "code",
   "execution_count": 9,
   "id": "dbc81b4a",
   "metadata": {},
   "outputs": [
    {
     "name": "stdout",
     "output_type": "stream",
     "text": [
      "Features shape: torch.Size([8, 20000, 8])\n",
      "Target shape: torch.Size([8])\n"
     ]
    }
   ],
   "source": [
    "X, y = next(iter(trainloader))\n",
    "\n",
    "print(\"Features shape:\", X.shape)\n",
    "print(\"Target shape:\", y.shape)"
   ]
  },
  {
   "cell_type": "code",
   "execution_count": 34,
   "id": "24ebda02",
   "metadata": {},
   "outputs": [],
   "source": [
    "class LSTM(nn.Module):\n",
    "    def __init__(self, num_sensors, hidden_units, device):\n",
    "        super().__init__()\n",
    "        self.device = device\n",
    "        self.num_sensors = num_sensors  # this is the number of features\n",
    "        self.hidden_units = hidden_units\n",
    "        self.num_layers = 2\n",
    "\n",
    "        self.lstm = nn.LSTM(\n",
    "            input_size=num_sensors,\n",
    "            hidden_size=hidden_units,\n",
    "            batch_first=True,\n",
    "            num_layers=self.num_layers\n",
    "        )\n",
    "\n",
    "        self.linear = nn.Linear(in_features=self.hidden_units, out_features=1)\n",
    "\n",
    "    def forward(self, x):\n",
    "        batch_size = x.shape[0]\n",
    "        h0 = torch.zeros(self.num_layers, batch_size, self.hidden_units).to(self.device).requires_grad_()\n",
    "        c0 = torch.zeros(self.num_layers, batch_size, self.hidden_units).to(self.device).requires_grad_()\n",
    "        \n",
    "        _, (hn, _) = self.lstm(x, (h0, c0))\n",
    "        out = self.linear(hn[0]).flatten()  # First dim of Hn is num_layers, which is set to 1 above.\n",
    "\n",
    "        return out"
   ]
  },
  {
   "cell_type": "code",
   "execution_count": 35,
   "id": "ac34ca7c",
   "metadata": {},
   "outputs": [
    {
     "name": "stdout",
     "output_type": "stream",
     "text": [
      "cuda:0\n"
     ]
    }
   ],
   "source": [
    "DEVICE = torch.device(\"cuda:0\" if torch.cuda.is_available() else \"cpu\")\n",
    "\n",
    "print(DEVICE)\n",
    "NUM_FEATURES = len(selected_features)\n",
    "HIDDEN_SIZE = 512\n",
    "\n",
    "model = LSTM(NUM_FEATURES, HIDDEN_SIZE, DEVICE)\n",
    "model.to(DEVICE)\n",
    "\n",
    "loss_function = nn.MSELoss()\n",
    "optimizer = optim.Adam(model.parameters(), lr=0.001)"
   ]
  },
  {
   "cell_type": "code",
   "execution_count": 43,
   "id": "dbbdd6da",
   "metadata": {},
   "outputs": [],
   "source": [
    "def train_model(data_loader, model, loss_function, optimizer):\n",
    "    num_batches = len(data_loader)\n",
    "    total_loss = 0\n",
    "    model.train()\n",
    "    \n",
    "    for X, y in data_loader:\n",
    "        output = model(X.to(DEVICE))\n",
    "        loss = loss_function(output, y.to(DEVICE))\n",
    "        \n",
    "        optimizer.zero_grad()\n",
    "        loss.backward()\n",
    "        optimizer.step()\n",
    "\n",
    "        total_loss += (loss.cpu().detach()).item()\n",
    "\n",
    "    avg_loss = total_loss / num_batches\n",
    "    print(f\"Train loss: {avg_loss}\")\n",
    "\n",
    "def test_model(data_loader, model, loss_function):\n",
    "    \n",
    "    num_batches = len(data_loader)\n",
    "    total_loss = 0\n",
    "\n",
    "    model.eval()\n",
    "    with torch.no_grad():\n",
    "        for X, y in data_loader:\n",
    "            output = model(X.to(DEVICE))\n",
    "            total_loss += loss_function(output.cpu().detach(), y).item()\n",
    "\n",
    "    avg_loss = total_loss / num_batches\n",
    "    print(f\"Test loss: {avg_loss}\")"
   ]
  },
  {
   "cell_type": "code",
   "execution_count": 44,
   "id": "5966c856",
   "metadata": {},
   "outputs": [
    {
     "name": "stdout",
     "output_type": "stream",
     "text": [
      "Epoch 0\n",
      "---------\n",
      "tensor([-0.0305, -0.0305, -0.0305, -0.0305, -0.0305, -0.0305, -0.0305, -0.0305],\n",
      "       device='cuda:0', grad_fn=<ReshapeAliasBackward0>)\n",
      "tensor([-0.0113, -0.0113, -0.0113, -0.0113, -0.0113, -0.0113, -0.0599, -0.0215],\n",
      "       device='cuda:0', grad_fn=<ReshapeAliasBackward0>)\n",
      "tensor([0.0058, 0.0057, 0.0057, 0.0057, 0.0057, 0.0057, 0.0057, 0.0057],\n",
      "       device='cuda:0', grad_fn=<ReshapeAliasBackward0>)\n",
      "tensor([0.0253, 0.0253, 0.0254, 0.0253, 0.0253, 0.0253, 0.0253, 0.0253],\n",
      "       device='cuda:0', grad_fn=<ReshapeAliasBackward0>)\n",
      "tensor([ 0.0252,  0.0252,  0.0252,  0.0252,  0.0252, -0.0113,  0.0036,  0.0059],\n",
      "       device='cuda:0', grad_fn=<ReshapeAliasBackward0>)\n",
      "tensor([-0.0029, -0.0027, -0.0027, -0.0027, -0.0027, -0.0027, -0.0027, -0.0027],\n",
      "       device='cuda:0', grad_fn=<ReshapeAliasBackward0>)\n",
      "tensor([-0.0087, -0.0087, -0.0087, -0.0144, -0.0132, -0.0136, -0.0128, -0.0127],\n",
      "       device='cuda:0', grad_fn=<ReshapeAliasBackward0>)\n",
      "tensor([-0.0095, -0.0095, -0.0095, -0.0095, -0.0095, -0.0095, -0.0095, -0.0095],\n",
      "       device='cuda:0', grad_fn=<ReshapeAliasBackward0>)\n",
      "tensor([-0.0006, -0.0007, -0.0007, -0.0007, -0.0007, -0.0007, -0.0007, -0.0006],\n",
      "       device='cuda:0', grad_fn=<ReshapeAliasBackward0>)\n",
      "tensor([0.0076, 0.0173, 0.0072, 0.0075, 0.0083, 0.0085, 0.0085, 0.0085],\n",
      "       device='cuda:0', grad_fn=<ReshapeAliasBackward0>)\n",
      "tensor([0.0107, 0.0107, 0.0107, 0.0107, 0.0107, 0.0107, 0.0107, 0.0197],\n",
      "       device='cuda:0', grad_fn=<ReshapeAliasBackward0>)\n",
      "tensor([0.0065, 0.0069, 0.0080, 0.0189, 0.0075, 0.0077, 0.0085, 0.0086],\n",
      "       device='cuda:0', grad_fn=<ReshapeAliasBackward0>)\n",
      "tensor([0.0003, 0.0003, 0.0003, 0.0003, 0.0003, 0.0003, 0.0003, 0.0003],\n",
      "       device='cuda:0', grad_fn=<ReshapeAliasBackward0>)\n",
      "tensor([-0.0062, -0.0062, -0.0062, -0.0062, -0.0062, -0.0062, -0.0062, -0.0062],\n",
      "       device='cuda:0', grad_fn=<ReshapeAliasBackward0>)\n",
      "tensor([-0.0083, -0.0083, -0.0083, -0.0083, -0.0083, -0.0083, -0.0083, -0.0083],\n",
      "       device='cuda:0', grad_fn=<ReshapeAliasBackward0>)\n",
      "tensor([-6.0097e-03, -6.0097e-03, -6.0092e-03, -8.9328e-03, -6.7014e-05,\n",
      "         3.5405e-04,  1.1907e-03, -3.9912e-03], device='cuda:0',\n",
      "       grad_fn=<ReshapeAliasBackward0>)\n",
      "tensor([0.0113, 0.0110, 0.0117, 0.0120, 0.0119, 0.0119, 0.0119, 0.0119],\n",
      "       device='cuda:0', grad_fn=<ReshapeAliasBackward0>)\n",
      "tensor([0.0089, 0.0089, 0.0089, 0.0089, 0.0089, 0.0089, 0.0089, 0.0089],\n",
      "       device='cuda:0', grad_fn=<ReshapeAliasBackward0>)\n",
      "tensor([0.0016, 0.0016, 0.0017, 0.0017, 0.0017, 0.0035, 0.0019, 0.0017],\n",
      "       device='cuda:0', grad_fn=<ReshapeAliasBackward0>)\n",
      "tensor([-0.0059, -0.0059, -0.0059, -0.0059, -0.0040, -0.0056, -0.0059, -0.0059],\n",
      "       device='cuda:0', grad_fn=<ReshapeAliasBackward0>)\n",
      "tensor([-0.0097, -0.0097, -0.0097, -0.0097, -0.0097, -0.0097, -0.0097, -0.0097],\n",
      "       device='cuda:0', grad_fn=<ReshapeAliasBackward0>)\n"
     ]
    },
    {
     "ename": "KeyboardInterrupt",
     "evalue": "",
     "output_type": "error",
     "traceback": [
      "\u001b[0;31m---------------------------------------------------------------------------\u001b[0m",
      "\u001b[0;31mKeyboardInterrupt\u001b[0m                         Traceback (most recent call last)",
      "\u001b[0;32m<ipython-input-44-e5e00c80c961>\u001b[0m in \u001b[0;36m<module>\u001b[0;34m\u001b[0m\n\u001b[1;32m      1\u001b[0m \u001b[0;32mfor\u001b[0m \u001b[0mix_epoch\u001b[0m \u001b[0;32min\u001b[0m \u001b[0mrange\u001b[0m\u001b[0;34m(\u001b[0m\u001b[0;36m25\u001b[0m\u001b[0;34m)\u001b[0m\u001b[0;34m:\u001b[0m\u001b[0;34m\u001b[0m\u001b[0;34m\u001b[0m\u001b[0m\n\u001b[1;32m      2\u001b[0m     \u001b[0mprint\u001b[0m\u001b[0;34m(\u001b[0m\u001b[0;34mf\"Epoch {ix_epoch}\\n---------\"\u001b[0m\u001b[0;34m)\u001b[0m\u001b[0;34m\u001b[0m\u001b[0;34m\u001b[0m\u001b[0m\n\u001b[0;32m----> 3\u001b[0;31m     \u001b[0mtrain_model\u001b[0m\u001b[0;34m(\u001b[0m\u001b[0mtrainloader\u001b[0m\u001b[0;34m,\u001b[0m \u001b[0mmodel\u001b[0m\u001b[0;34m,\u001b[0m \u001b[0mloss_function\u001b[0m\u001b[0;34m,\u001b[0m \u001b[0moptimizer\u001b[0m\u001b[0;34m=\u001b[0m\u001b[0moptimizer\u001b[0m\u001b[0;34m)\u001b[0m\u001b[0;34m\u001b[0m\u001b[0;34m\u001b[0m\u001b[0m\n\u001b[0m\u001b[1;32m      4\u001b[0m     \u001b[0mtest_model\u001b[0m\u001b[0;34m(\u001b[0m\u001b[0mvalloader\u001b[0m\u001b[0;34m,\u001b[0m \u001b[0mmodel\u001b[0m\u001b[0;34m,\u001b[0m \u001b[0mloss_function\u001b[0m\u001b[0;34m)\u001b[0m\u001b[0;34m\u001b[0m\u001b[0;34m\u001b[0m\u001b[0m\n\u001b[1;32m      5\u001b[0m     \u001b[0mprint\u001b[0m\u001b[0;34m(\u001b[0m\u001b[0;34m)\u001b[0m\u001b[0;34m\u001b[0m\u001b[0;34m\u001b[0m\u001b[0m\n",
      "\u001b[0;32m<ipython-input-43-46a04037b164>\u001b[0m in \u001b[0;36mtrain_model\u001b[0;34m(data_loader, model, loss_function, optimizer)\u001b[0m\n\u001b[1;32m     10\u001b[0m \u001b[0;34m\u001b[0m\u001b[0m\n\u001b[1;32m     11\u001b[0m         \u001b[0moptimizer\u001b[0m\u001b[0;34m.\u001b[0m\u001b[0mzero_grad\u001b[0m\u001b[0;34m(\u001b[0m\u001b[0;34m)\u001b[0m\u001b[0;34m\u001b[0m\u001b[0;34m\u001b[0m\u001b[0m\n\u001b[0;32m---> 12\u001b[0;31m         \u001b[0mloss\u001b[0m\u001b[0;34m.\u001b[0m\u001b[0mbackward\u001b[0m\u001b[0;34m(\u001b[0m\u001b[0;34m)\u001b[0m\u001b[0;34m\u001b[0m\u001b[0;34m\u001b[0m\u001b[0m\n\u001b[0m\u001b[1;32m     13\u001b[0m         \u001b[0moptimizer\u001b[0m\u001b[0;34m.\u001b[0m\u001b[0mstep\u001b[0m\u001b[0;34m(\u001b[0m\u001b[0;34m)\u001b[0m\u001b[0;34m\u001b[0m\u001b[0;34m\u001b[0m\u001b[0m\n\u001b[1;32m     14\u001b[0m \u001b[0;34m\u001b[0m\u001b[0m\n",
      "\u001b[0;32m~/WildFIrePrediction/venv/lib/python3.6/site-packages/torch/_tensor.py\u001b[0m in \u001b[0;36mbackward\u001b[0;34m(self, gradient, retain_graph, create_graph, inputs)\u001b[0m\n\u001b[1;32m    305\u001b[0m                 \u001b[0mcreate_graph\u001b[0m\u001b[0;34m=\u001b[0m\u001b[0mcreate_graph\u001b[0m\u001b[0;34m,\u001b[0m\u001b[0;34m\u001b[0m\u001b[0;34m\u001b[0m\u001b[0m\n\u001b[1;32m    306\u001b[0m                 inputs=inputs)\n\u001b[0;32m--> 307\u001b[0;31m         \u001b[0mtorch\u001b[0m\u001b[0;34m.\u001b[0m\u001b[0mautograd\u001b[0m\u001b[0;34m.\u001b[0m\u001b[0mbackward\u001b[0m\u001b[0;34m(\u001b[0m\u001b[0mself\u001b[0m\u001b[0;34m,\u001b[0m \u001b[0mgradient\u001b[0m\u001b[0;34m,\u001b[0m \u001b[0mretain_graph\u001b[0m\u001b[0;34m,\u001b[0m \u001b[0mcreate_graph\u001b[0m\u001b[0;34m,\u001b[0m \u001b[0minputs\u001b[0m\u001b[0;34m=\u001b[0m\u001b[0minputs\u001b[0m\u001b[0;34m)\u001b[0m\u001b[0;34m\u001b[0m\u001b[0;34m\u001b[0m\u001b[0m\n\u001b[0m\u001b[1;32m    308\u001b[0m \u001b[0;34m\u001b[0m\u001b[0m\n\u001b[1;32m    309\u001b[0m     \u001b[0;32mdef\u001b[0m \u001b[0mregister_hook\u001b[0m\u001b[0;34m(\u001b[0m\u001b[0mself\u001b[0m\u001b[0;34m,\u001b[0m \u001b[0mhook\u001b[0m\u001b[0;34m)\u001b[0m\u001b[0;34m:\u001b[0m\u001b[0;34m\u001b[0m\u001b[0;34m\u001b[0m\u001b[0m\n",
      "\u001b[0;32m~/WildFIrePrediction/venv/lib/python3.6/site-packages/torch/autograd/__init__.py\u001b[0m in \u001b[0;36mbackward\u001b[0;34m(tensors, grad_tensors, retain_graph, create_graph, grad_variables, inputs)\u001b[0m\n\u001b[1;32m    154\u001b[0m     Variable._execution_engine.run_backward(\n\u001b[1;32m    155\u001b[0m         \u001b[0mtensors\u001b[0m\u001b[0;34m,\u001b[0m \u001b[0mgrad_tensors_\u001b[0m\u001b[0;34m,\u001b[0m \u001b[0mretain_graph\u001b[0m\u001b[0;34m,\u001b[0m \u001b[0mcreate_graph\u001b[0m\u001b[0;34m,\u001b[0m \u001b[0minputs\u001b[0m\u001b[0;34m,\u001b[0m\u001b[0;34m\u001b[0m\u001b[0;34m\u001b[0m\u001b[0m\n\u001b[0;32m--> 156\u001b[0;31m         allow_unreachable=True, accumulate_grad=True)  # allow_unreachable flag\n\u001b[0m\u001b[1;32m    157\u001b[0m \u001b[0;34m\u001b[0m\u001b[0m\n\u001b[1;32m    158\u001b[0m \u001b[0;34m\u001b[0m\u001b[0m\n",
      "\u001b[0;31mKeyboardInterrupt\u001b[0m: "
     ]
    }
   ],
   "source": [
    "for ix_epoch in range(25):\n",
    "    print(f\"Epoch {ix_epoch}\\n---------\")\n",
    "    train_model(trainloader, model, loss_function, optimizer=optimizer)\n",
    "    test_model(valloader, model, loss_function)\n",
    "    print()"
   ]
  },
  {
   "cell_type": "code",
   "execution_count": null,
   "id": "4d354904",
   "metadata": {},
   "outputs": [],
   "source": []
  }
 ],
 "metadata": {
  "kernelspec": {
   "display_name": "venv",
   "language": "python",
   "name": "venv"
  },
  "language_info": {
   "codemirror_mode": {
    "name": "ipython",
    "version": 3
   },
   "file_extension": ".py",
   "mimetype": "text/x-python",
   "name": "python",
   "nbconvert_exporter": "python",
   "pygments_lexer": "ipython3",
   "version": "3.6.9"
  }
 },
 "nbformat": 4,
 "nbformat_minor": 5
}
