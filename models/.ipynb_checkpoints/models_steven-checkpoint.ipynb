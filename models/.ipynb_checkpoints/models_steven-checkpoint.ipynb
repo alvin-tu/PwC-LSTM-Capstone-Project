{
 "cells": [
  {
   "cell_type": "code",
   "execution_count": 1,
   "metadata": {},
   "outputs": [],
   "source": [
    "import pandas as pd\n",
    "import json\n",
    "\n",
    "import numpy as np\n",
    "from tqdm import tqdm\n",
    "\n",
    "import torch\n",
    "\n",
    "import torch.nn as nn\n",
    "import torch.nn.functional as F\n",
    "import torch.optim as optim"
   ]
  },
  {
   "cell_type": "markdown",
   "metadata": {},
   "source": [
    "<h2>Loading in data<h2>"
   ]
  },
  {
   "cell_type": "code",
   "execution_count": 6,
   "metadata": {},
   "outputs": [],
   "source": [
    "df_train = pd.read_csv('/home/capstone22/WildFIrePrediction/Isaac_data/isaac_train.csv')\n",
    "df_valid = pd.read_csv('/home/capstone22/WildFIrePrediction/Isaac_data/isaac_valid.csv')\n",
    "df_test = pd.read_csv('/home/capstone22/WildFIrePrediction/Isaac_data/isaac_test.csv')"
   ]
  },
  {
   "cell_type": "markdown",
   "metadata": {},
   "source": [
    "<h2> Define features to be used <h2>"
   ]
  },
  {
   "cell_type": "code",
   "execution_count": 8,
   "metadata": {},
   "outputs": [],
   "source": [
    "# selected_features = ['Road_Dist',\n",
    "#                      'Elec_Dist',\n",
    "#                      'Cultivated_Prop',\n",
    "#                      'aet__maximum_Normal',\n",
    "#                      'aet__mean_Normal',\n",
    "#                      'aet__minimum_Normal',\n",
    "#                      'cwd__maximum_Normal',\n",
    "#                      'cwd__mean_Normal',\n",
    "#                      'cwd__minimum_Normal',\n",
    "#                      'pck__maximum_Normal',\n",
    "#                      'pck__mean_Normal',\n",
    "#                      'pck__minimum_Normal',\n",
    "#                      'aet__mean_ThreeYear_Dev',\n",
    "#                      'cwd__mean_ThreeYear_Dev',\n",
    "#                      'Mean_Housing_Dens_25km']\n",
    "\n",
    "selected_features = ['Elec_Dist',\n",
    "                     'aet__maximum_Normal',\n",
    "                     'aet__mean_Normal',\n",
    "                     'aet__minimum_Normal',\n",
    "                     'cwd__maximum_Normal',\n",
    "                     'cwd__mean_Normal',\n",
    "                     'cwd__minimum_Normal',\n",
    "                     'cwd__mean_ThreeYear_Dev']"
   ]
  },
  {
   "cell_type": "markdown",
   "metadata": {},
   "source": [
    "<h2>Model Building<h2>"
   ]
  },
  {
   "cell_type": "code",
   "execution_count": null,
   "metadata": {},
   "outputs": [],
   "source": [
    "# class Model(nn.Module):\n",
    "#     def __init__(self,features,num_layers,device):\n",
    "#         super.__init__()\n",
    "#         self.device = device\n",
    "#         self.features = features\n",
    "        \n",
    "#     def forward(self, x):"
   ]
  }
 ],
 "metadata": {
  "kernelspec": {
   "display_name": "Python 3",
   "language": "python",
   "name": "python3"
  },
  "language_info": {
   "codemirror_mode": {
    "name": "ipython",
    "version": 3
   },
   "file_extension": ".py",
   "mimetype": "text/x-python",
   "name": "python",
   "nbconvert_exporter": "python",
   "pygments_lexer": "ipython3",
   "version": "3.6.9"
  },
  "vscode": {
   "interpreter": {
    "hash": "c726f4c56913427f3e18b00bc4853e619c0260543340654d882c970f8c3fe367"
   }
  }
 },
 "nbformat": 4,
 "nbformat_minor": 2
}
