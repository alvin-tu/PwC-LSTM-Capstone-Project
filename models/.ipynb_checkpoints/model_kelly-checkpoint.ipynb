{
 "cells": [
  {
   "cell_type": "code",
   "execution_count": 4,
   "id": "2105e0f1",
   "metadata": {},
   "outputs": [],
   "source": [
    "import pandas as pd\n",
    "import numpy as np\n",
    "import os\n",
    "\n",
    "import torch\n",
    "import torch.nn as nn\n",
    "import torch.nn.functional as F\n",
    "import torch.optim as optim \n",
    "from torch.utils.data import Dataset\n"
   ]
  },
  {
   "cell_type": "code",
   "execution_count": 74,
   "id": "bf8106e1",
   "metadata": {},
   "outputs": [],
   "source": [
    "class IsaacDS(Dataset):\n",
    "    def __init__(self, split, features, data_dir):\n",
    "        self.split = split\n",
    "        self.features = features\n",
    "        self.data_dir = data_dir\n",
    "        self.df = self.getdf()\n",
    "      \n",
    "\n",
    "    def getdf(self):\n",
    "        path = os.path.join(self.data_dir, f'isaac_{self.split}.csv')\n",
    "        df = pd.read_csv(path)\n",
    "        df = df[self.features]\n",
    "        \n",
    "        return df\n",
    "        \n",
    "    def __len__(self):\n",
    "        return len(self.df)\n",
    "    \n",
    "    def __getitem__(self, idx):\n",
    "        X = self.df.drop(columns=['value']).iloc[idx].values\n",
    "        X = X.astype('float32')\n",
    "        X = torch.from_numpy(X)\n",
    "        \n",
    "        y = self.df['value'].iloc[idx]\n",
    "        y = y.astype('float32')\n",
    "        y = torch.tensor(y)\n",
    "\n",
    "        return X, y"
   ]
  },
  {
   "cell_type": "code",
   "execution_count": 6,
   "id": "23253ca6",
   "metadata": {},
   "outputs": [],
   "source": [
    "DATA_PATH = '/home/capstone22/WildFIrePrediction/Isaac_data'\n",
    "\n",
    "FEATURES = [\n",
    " 'Road_Dist',\n",
    " 'Elec_Dist',\n",
    " 'Cultivated_Prop',\n",
    " 'aet__maximum_Normal',\n",
    " 'aet__mean_Normal',\n",
    " 'aet__minimum_Normal',\n",
    " 'cwd__maximum_Normal',\n",
    " 'cwd__mean_Normal',\n",
    " 'cwd__minimum_Normal',\n",
    " 'pck__maximum_Normal',\n",
    " 'pck__mean_Normal',\n",
    " 'aet__mean_ThreeYear_Dev',\n",
    " 'cwd__mean_ThreeYear_Dev',\n",
    " 'pck__minimum_Normal',\n",
    " 'Mean_Housing_Dens_25km',\n",
    " 'FFWI',\n",
    " 'value']"
   ]
  },
  {
   "cell_type": "code",
   "execution_count": 19,
   "id": "9cb35e0b",
   "metadata": {},
   "outputs": [],
   "source": [
    "class DeepNN(nn.Module):\n",
    "    def __init__(self):\n",
    "        super().__init__()\n",
    "        self.fc1 = nn.Linear(16, 64)\n",
    "        self.fc2 = nn.Linear(64, 128)\n",
    "        self.fc3 = nn.Linear(128, 32)\n",
    "        self.fc4 = nn.Linear(32, 2)\n",
    "        \n",
    "    def forward (self, x):\n",
    "        x = F.relu(self.fc1(x))\n",
    "        x = F.relu(self.fc2(x))\n",
    "        x = F.relu(self.fc3(x))\n",
    "        x = F.log_softmax(self.fc4(x), dim=1)\n",
    "        \n",
    "        return x"
   ]
  },
  {
   "cell_type": "code",
   "execution_count": 75,
   "id": "dd2f1729",
   "metadata": {},
   "outputs": [],
   "source": [
    "trainset = IsaacDS('train', FEATURES, DATA_PATH)\n",
    "validset = IsaacDS('valid', FEATURES, DATA_PATH)\n",
    "testset = IsaacDS('test', FEATURES, DATA_PATH)"
   ]
  },
  {
   "cell_type": "code",
   "execution_count": 76,
   "id": "95a533ca",
   "metadata": {},
   "outputs": [
    {
     "data": {
      "text/plain": [
       "(tensor([1.1000e+04, 1.0000e+01, 0.0000e+00, 6.9257e+01, 2.3528e+01, 1.9532e+00,\n",
       "         9.6359e+01, 5.2955e+01, 1.9432e+01, 2.9524e+02, 9.1280e+01, 3.1711e+00,\n",
       "         7.5091e+00, 0.0000e+00, 2.6736e+01, 4.0219e+01]),\n",
       " tensor(0.))"
      ]
     },
     "execution_count": 76,
     "metadata": {},
     "output_type": "execute_result"
    }
   ],
   "source": [
    "trainset[0]"
   ]
  },
  {
   "cell_type": "code",
   "execution_count": 77,
   "id": "d001a979",
   "metadata": {},
   "outputs": [],
   "source": [
    "trainloader = torch.utils.data.DataLoader(trainset, batch_size = 64, shuffle=True, num_workers=16)\n",
    "validationloader = torch.utils.data.DataLoader(validset, batch_size = 64, shuffle=False, num_workers=8)\n",
    "testloader = torch.utils.data.DataLoader(testset, batch_size = 64, shuffle=False, num_workers=8)"
   ]
  },
  {
   "cell_type": "code",
   "execution_count": 22,
   "id": "8f401d21",
   "metadata": {},
   "outputs": [],
   "source": [
    "device = torch.device(f\"cuda:0\" if torch.cuda.is_available() else \"cpu\")"
   ]
  },
  {
   "cell_type": "code",
   "execution_count": 23,
   "id": "dcfe9a44",
   "metadata": {},
   "outputs": [
    {
     "data": {
      "text/plain": [
       "DeepNN(\n",
       "  (fc1): Linear(in_features=16, out_features=64, bias=True)\n",
       "  (fc2): Linear(in_features=64, out_features=128, bias=True)\n",
       "  (fc3): Linear(in_features=128, out_features=32, bias=True)\n",
       "  (fc4): Linear(in_features=32, out_features=2, bias=True)\n",
       ")"
      ]
     },
     "execution_count": 23,
     "metadata": {},
     "output_type": "execute_result"
    }
   ],
   "source": [
    "model = DeepNN()\n",
    "model.to(device)"
   ]
  },
  {
   "cell_type": "code",
   "execution_count": 24,
   "id": "aaddf49e",
   "metadata": {},
   "outputs": [],
   "source": [
    "criterion = nn.CrossEntropyLoss()\n",
    "optimizer = optim.Adam(model.parameters())"
   ]
  },
  {
   "cell_type": "code",
   "execution_count": 25,
   "id": "eed02cff",
   "metadata": {},
   "outputs": [
    {
     "data": {
      "text/plain": [
       "1563"
      ]
     },
     "execution_count": 25,
     "metadata": {},
     "output_type": "execute_result"
    }
   ],
   "source": [
    "len(trainloader)"
   ]
  },
  {
   "cell_type": "code",
   "execution_count": 1,
   "id": "42c0aa4a",
   "metadata": {},
   "outputs": [
    {
     "ename": "NameError",
     "evalue": "name 'model' is not defined",
     "output_type": "error",
     "traceback": [
      "\u001b[0;31m---------------------------------------------------------------------------\u001b[0m",
      "\u001b[0;31mNameError\u001b[0m                                 Traceback (most recent call last)",
      "\u001b[0;32m<ipython-input-1-2f1c6d6a5ad6>\u001b[0m in \u001b[0;36m<module>\u001b[0;34m\u001b[0m\n\u001b[1;32m      3\u001b[0m \u001b[0;32mfor\u001b[0m \u001b[0me\u001b[0m \u001b[0;32min\u001b[0m \u001b[0mrange\u001b[0m\u001b[0;34m(\u001b[0m\u001b[0mepochs\u001b[0m\u001b[0;34m)\u001b[0m\u001b[0;34m:\u001b[0m\u001b[0;34m\u001b[0m\u001b[0;34m\u001b[0m\u001b[0m\n\u001b[1;32m      4\u001b[0m     \u001b[0mrunning_loss\u001b[0m \u001b[0;34m=\u001b[0m \u001b[0;36m0\u001b[0m\u001b[0;34m\u001b[0m\u001b[0;34m\u001b[0m\u001b[0m\n\u001b[0;32m----> 5\u001b[0;31m     \u001b[0mmodel\u001b[0m\u001b[0;34m.\u001b[0m\u001b[0mtrain\u001b[0m\u001b[0;34m(\u001b[0m\u001b[0;34m)\u001b[0m\u001b[0;34m\u001b[0m\u001b[0;34m\u001b[0m\u001b[0m\n\u001b[0m\u001b[1;32m      6\u001b[0m \u001b[0;34m\u001b[0m\u001b[0m\n\u001b[1;32m      7\u001b[0m     \u001b[0;32mfor\u001b[0m \u001b[0mX\u001b[0m\u001b[0;34m,\u001b[0m \u001b[0my\u001b[0m \u001b[0;32min\u001b[0m \u001b[0mtrainloader\u001b[0m\u001b[0;34m:\u001b[0m\u001b[0;34m\u001b[0m\u001b[0;34m\u001b[0m\u001b[0m\n",
      "\u001b[0;31mNameError\u001b[0m: name 'model' is not defined"
     ]
    }
   ],
   "source": [
    "epochs = 50\n",
    "\n",
    "for e in range(epochs):\n",
    "    running_loss = 0\n",
    "    model.train()\n",
    "    \n",
    "    for X, y in trainloader:\n",
    "        print(y)\n",
    "        y = y.type(torch.LongTensor) \n",
    "        print(y)\n",
    "        exit\n",
    "        \n",
    "        log_ps = model(X.to(device))\n",
    "        loss = criterion(log_ps, y.to(device))\n",
    "        \n",
    "        optimizer.zero_grad()\n",
    "        loss.backward()\n",
    "        optimizer.step()\n",
    "        \n",
    "        running_loss += loss.item()\n",
    "    else:\n",
    "        print(f'Epoch {e}: Training loss: {running_loss/len(trainloader)}', end=' ')\n",
    "        \n",
    "    model.eval()\n",
    "    with torch.no_grad():\n",
    "        for X, y in validloader: \n",
    "            log_ps = model(X.to(device)).cpu()\n",
    "            mx_indx = torch.argmax(log_ps, dim=1)\n",
    "            total += y.numel()\n",
    "            correct += sum(mx_index==labels).item()\n",
    "        \n",
    "        acuracy = correct/total*100\n",
    "        print(f'Validation test accuracy {accuracy:.2f}')"
   ]
  },
  {
   "cell_type": "code",
   "execution_count": null,
   "id": "aa67d767",
   "metadata": {},
   "outputs": [],
   "source": []
  }
 ],
 "metadata": {
  "kernelspec": {
   "display_name": "venv",
   "language": "python",
   "name": "venv"
  },
  "language_info": {
   "codemirror_mode": {
    "name": "ipython",
    "version": 3
   },
   "file_extension": ".py",
   "mimetype": "text/x-python",
   "name": "python",
   "nbconvert_exporter": "python",
   "pygments_lexer": "ipython3",
   "version": "3.6.9"
  }
 },
 "nbformat": 4,
 "nbformat_minor": 5
}
