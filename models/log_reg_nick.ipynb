{
 "cells": [
  {
   "cell_type": "code",
   "execution_count": 30,
   "metadata": {},
   "outputs": [],
   "source": [
    "import numpy as np\n",
    "import pandas as pd\n",
    "import sys\n",
    "sys.path.append('/home/capstone22/WildFIrePrediction/PwC-LSTM-Capstone-Project/src/')\n",
    "from roc import plot_roc_curve\n",
    "from sklearn.linear_model import LogisticRegression\n",
    "from sklearn.metrics import accuracy_score\n",
    "from sklearn import preprocessing\n"
   ]
  },
  {
   "attachments": {},
   "cell_type": "markdown",
   "metadata": {},
   "source": [
    "Data Loading"
   ]
  },
  {
   "cell_type": "code",
   "execution_count": 31,
   "metadata": {},
   "outputs": [],
   "source": [
    "df_train = pd.read_csv('/home/capstone22/WildFIrePrediction/Isaac_data/isaac_train.csv')\n",
    "df_valid = pd.read_csv('/home/capstone22/WildFIrePrediction/Isaac_data/isaac_valid.csv')\n",
    "df_test = pd.read_csv('/home/capstone22/WildFIrePrediction/Isaac_data/isaac_test.csv')"
   ]
  },
  {
   "attachments": {},
   "cell_type": "markdown",
   "metadata": {},
   "source": [
    "Feature Selection"
   ]
  },
  {
   "cell_type": "code",
   "execution_count": 32,
   "metadata": {},
   "outputs": [],
   "source": [
    "# selected_features = ['Road_Dist',\n",
    "#                      'Elec_Dist',\n",
    "#                      'Cultivated_Prop',\n",
    "#                      'aet__maximum_Normal',\n",
    "#                      'aet__mean_Normal',\n",
    "#                      'aet__minimum_Normal',\n",
    "#                      'cwd__maximum_Normal',\n",
    "#                      'cwd__mean_Normal',\n",
    "#                      'cwd__minimum_Normal',\n",
    "#                      'pck__maximum_Normal',\n",
    "#                      'pck__mean_Normal',\n",
    "#                      'pck__minimum_Normal',\n",
    "#                      'aet__mean_ThreeYear_Dev',\n",
    "#                      'cwd__mean_ThreeYear_Dev',\n",
    "#                      'Mean_Housing_Dens_25km']\n",
    "\n",
    "selected_features = ['Road_Dist',\n",
    "                    'Elec_Dist',\n",
    "                    'aet__mean_Normal',\n",
    "                    'aet__mean_ThreeYear_Dev',\n",
    "                    'cwd__mean_Normal',\n",
    "                    'cwd__mean_ThreeYear_Dev',\n",
    "                    'Mean_Housing_Dens_25km',\n",
    "                    'FFWI',\n",
    "                    'time_since_fire']\n"
   ]
  },
  {
   "attachments": {},
   "cell_type": "markdown",
   "metadata": {},
   "source": [
    "Model"
   ]
  },
  {
   "cell_type": "code",
   "execution_count": 33,
   "metadata": {},
   "outputs": [],
   "source": [
    "X_train = df_train[selected_features]\n",
    "X_train_norm = preprocessing.normalize(X_train, axis = 0)\n",
    "y_train = df_train['value']\n",
    "\n",
    "X_valid = df_valid[selected_features]\n",
    "X_valid_norm = preprocessing.normalize(X_valid, axis = 0)\n",
    "y_valid = df_valid['value']\n",
    "\n",
    "X_test = df_test[selected_features]\n",
    "X_test_norm = preprocessing.normalize(X_test, axis = 0)\n",
    "y_test = df_test['value']"
   ]
  },
  {
   "cell_type": "code",
   "execution_count": 34,
   "metadata": {},
   "outputs": [],
   "source": [
    "clf = LogisticRegression().fit(X_train, y_train)"
   ]
  },
  {
   "cell_type": "code",
   "execution_count": 35,
   "metadata": {},
   "outputs": [
    {
     "name": "stdout",
     "output_type": "stream",
     "text": [
      "[[0.99512887 0.00487113]\n",
      " [0.99514551 0.00485449]\n",
      " [0.99516469 0.00483531]\n",
      " ...\n",
      " [0.99513357 0.00486643]\n",
      " [0.99512913 0.00487087]\n",
      " [0.99514589 0.00485411]]\n"
     ]
    }
   ],
   "source": [
    "y_pred = clf.predict(X_valid)\n",
    "y_pred_prob = clf.predict_proba(X_valid)\n",
    "print(y_pred_prob)"
   ]
  },
  {
   "cell_type": "code",
   "execution_count": 36,
   "metadata": {},
   "outputs": [
    {
     "name": "stdout",
     "output_type": "stream",
     "text": [
      "0.99215\n",
      "AUC score: 0.5\n"
     ]
    },
    {
     "data": {
      "image/png": "[encoded data removed]",
      "text/plain": [
       "<Figure size 432x288 with 1 Axes>"
      ]
     },
     "metadata": {
      "needs_background": "light"
     },
     "output_type": "display_data"
    }
   ],
   "source": [
    "print(accuracy_score(y_valid, y_pred))\n",
    "plot_roc_curve(y_valid, y_pred)"
   ]
  }
 ],
 "metadata": {
  "kernelspec": {
   "display_name": "venv",
   "language": "python",
   "name": "venv"
  },
  "language_info": {
   "codemirror_mode": {
    "name": "ipython",
    "version": 3
   },
   "file_extension": ".py",
   "mimetype": "text/x-python",
   "name": "python",
   "nbconvert_exporter": "python",
   "pygments_lexer": "ipython3",
   "version": "3.6.9"
  },
  "orig_nbformat": 4,
  "vscode": {
   "interpreter": {
    "hash": "31f2aee4e71d21fbe5cf8b01ff0e069b9275f58929596ceb00d14d90e3e16cd6"
   }
  }
 },
 "nbformat": 4,
 "nbformat_minor": 2
}
